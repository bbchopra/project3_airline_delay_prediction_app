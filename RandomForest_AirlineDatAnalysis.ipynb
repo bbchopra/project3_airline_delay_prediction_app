{
 "cells": [
  {
   "cell_type": "code",
   "execution_count": 1,
   "metadata": {},
   "outputs": [],
   "source": [
    "import matplotlib.pyplot as plt\n",
    "import numpy as np\n",
    "import pandas as pd\n",
    "from sklearn.externals import joblib"
   ]
  },
  {
   "cell_type": "code",
   "execution_count": 7,
   "metadata": {},
   "outputs": [
    {
     "data": {
      "text/html": [
       "<div>\n",
       "<style scoped>\n",
       "    .dataframe tbody tr th:only-of-type {\n",
       "        vertical-align: middle;\n",
       "    }\n",
       "\n",
       "    .dataframe tbody tr th {\n",
       "        vertical-align: top;\n",
       "    }\n",
       "\n",
       "    .dataframe thead th {\n",
       "        text-align: right;\n",
       "    }\n",
       "</style>\n",
       "<table border=\"1\" class=\"dataframe\">\n",
       "  <thead>\n",
       "    <tr style=\"text-align: right;\">\n",
       "      <th></th>\n",
       "      <th>YEAR</th>\n",
       "      <th>MONTH</th>\n",
       "      <th>DAY</th>\n",
       "      <th>DAY_OF_WEEK</th>\n",
       "      <th>AIRLINE</th>\n",
       "      <th>ORIGIN_AIRPORT</th>\n",
       "      <th>DESTINATION_AIRPORT</th>\n",
       "      <th>SCHEDULED_DEPARTURE</th>\n",
       "      <th>DEPARTURE_TIME</th>\n",
       "      <th>DEPARTURE_DELAY</th>\n",
       "      <th>SCHEDULED_ARRIVAL</th>\n",
       "      <th>ARRIVAL_TIME</th>\n",
       "      <th>ARRIVAL_DELAY</th>\n",
       "      <th>AIR_SYSTEM_DELAY</th>\n",
       "      <th>SECURITY_DELAY</th>\n",
       "      <th>AIRLINE_DELAY</th>\n",
       "      <th>LATE_AIRCRAFT_DELAY</th>\n",
       "      <th>WEATHER_DELAY</th>\n",
       "    </tr>\n",
       "  </thead>\n",
       "  <tbody>\n",
       "    <tr>\n",
       "      <th>0</th>\n",
       "      <td>2015</td>\n",
       "      <td>1</td>\n",
       "      <td>1</td>\n",
       "      <td>4</td>\n",
       "      <td>US</td>\n",
       "      <td>SFO</td>\n",
       "      <td>CLT</td>\n",
       "      <td>20</td>\n",
       "      <td>18.0</td>\n",
       "      <td>-2.0</td>\n",
       "      <td>806</td>\n",
       "      <td>811.0</td>\n",
       "      <td>5.0</td>\n",
       "      <td>NaN</td>\n",
       "      <td>NaN</td>\n",
       "      <td>NaN</td>\n",
       "      <td>NaN</td>\n",
       "      <td>NaN</td>\n",
       "    </tr>\n",
       "    <tr>\n",
       "      <th>1</th>\n",
       "      <td>2015</td>\n",
       "      <td>1</td>\n",
       "      <td>1</td>\n",
       "      <td>4</td>\n",
       "      <td>DL</td>\n",
       "      <td>SFO</td>\n",
       "      <td>MSP</td>\n",
       "      <td>25</td>\n",
       "      <td>20.0</td>\n",
       "      <td>-5.0</td>\n",
       "      <td>602</td>\n",
       "      <td>610.0</td>\n",
       "      <td>8.0</td>\n",
       "      <td>NaN</td>\n",
       "      <td>NaN</td>\n",
       "      <td>NaN</td>\n",
       "      <td>NaN</td>\n",
       "      <td>NaN</td>\n",
       "    </tr>\n",
       "    <tr>\n",
       "      <th>2</th>\n",
       "      <td>2015</td>\n",
       "      <td>1</td>\n",
       "      <td>1</td>\n",
       "      <td>4</td>\n",
       "      <td>DL</td>\n",
       "      <td>SEA</td>\n",
       "      <td>MSP</td>\n",
       "      <td>40</td>\n",
       "      <td>39.0</td>\n",
       "      <td>-1.0</td>\n",
       "      <td>549</td>\n",
       "      <td>557.0</td>\n",
       "      <td>8.0</td>\n",
       "      <td>NaN</td>\n",
       "      <td>NaN</td>\n",
       "      <td>NaN</td>\n",
       "      <td>NaN</td>\n",
       "      <td>NaN</td>\n",
       "    </tr>\n",
       "    <tr>\n",
       "      <th>3</th>\n",
       "      <td>2015</td>\n",
       "      <td>1</td>\n",
       "      <td>1</td>\n",
       "      <td>4</td>\n",
       "      <td>NK</td>\n",
       "      <td>LAS</td>\n",
       "      <td>MCI</td>\n",
       "      <td>55</td>\n",
       "      <td>120.0</td>\n",
       "      <td>25.0</td>\n",
       "      <td>537</td>\n",
       "      <td>543.0</td>\n",
       "      <td>6.0</td>\n",
       "      <td>NaN</td>\n",
       "      <td>NaN</td>\n",
       "      <td>NaN</td>\n",
       "      <td>NaN</td>\n",
       "      <td>NaN</td>\n",
       "    </tr>\n",
       "    <tr>\n",
       "      <th>4</th>\n",
       "      <td>2015</td>\n",
       "      <td>1</td>\n",
       "      <td>1</td>\n",
       "      <td>4</td>\n",
       "      <td>AA</td>\n",
       "      <td>SEA</td>\n",
       "      <td>MIA</td>\n",
       "      <td>100</td>\n",
       "      <td>52.0</td>\n",
       "      <td>-8.0</td>\n",
       "      <td>938</td>\n",
       "      <td>939.0</td>\n",
       "      <td>1.0</td>\n",
       "      <td>NaN</td>\n",
       "      <td>NaN</td>\n",
       "      <td>NaN</td>\n",
       "      <td>NaN</td>\n",
       "      <td>NaN</td>\n",
       "    </tr>\n",
       "  </tbody>\n",
       "</table>\n",
       "</div>"
      ],
      "text/plain": [
       "   YEAR  MONTH  DAY  DAY_OF_WEEK AIRLINE ORIGIN_AIRPORT DESTINATION_AIRPORT  \\\n",
       "0  2015      1    1            4      US            SFO                 CLT   \n",
       "1  2015      1    1            4      DL            SFO                 MSP   \n",
       "2  2015      1    1            4      DL            SEA                 MSP   \n",
       "3  2015      1    1            4      NK            LAS                 MCI   \n",
       "4  2015      1    1            4      AA            SEA                 MIA   \n",
       "\n",
       "   SCHEDULED_DEPARTURE  DEPARTURE_TIME  DEPARTURE_DELAY  SCHEDULED_ARRIVAL  \\\n",
       "0                   20            18.0             -2.0                806   \n",
       "1                   25            20.0             -5.0                602   \n",
       "2                   40            39.0             -1.0                549   \n",
       "3                   55           120.0             25.0                537   \n",
       "4                  100            52.0             -8.0                938   \n",
       "\n",
       "   ARRIVAL_TIME  ARRIVAL_DELAY  AIR_SYSTEM_DELAY  SECURITY_DELAY  \\\n",
       "0         811.0            5.0               NaN             NaN   \n",
       "1         610.0            8.0               NaN             NaN   \n",
       "2         557.0            8.0               NaN             NaN   \n",
       "3         543.0            6.0               NaN             NaN   \n",
       "4         939.0            1.0               NaN             NaN   \n",
       "\n",
       "   AIRLINE_DELAY  LATE_AIRCRAFT_DELAY  WEATHER_DELAY  \n",
       "0            NaN                  NaN            NaN  \n",
       "1            NaN                  NaN            NaN  \n",
       "2            NaN                  NaN            NaN  \n",
       "3            NaN                  NaN            NaN  \n",
       "4            NaN                  NaN            NaN  "
      ]
     },
     "execution_count": 7,
     "metadata": {},
     "output_type": "execute_result"
    }
   ],
   "source": [
    "#read the CSV file with Data ans load them into Pands\\as Dataset\n",
    "airlines = pd.read_csv('airline_clean_data_0722.csv')\n",
    "airlines.head()"
   ]
  },
  {
   "cell_type": "code",
   "execution_count": 8,
   "metadata": {},
   "outputs": [
    {
     "data": {
      "text/plain": [
       "1963616"
      ]
     },
     "execution_count": 8,
     "metadata": {},
     "output_type": "execute_result"
    }
   ],
   "source": [
    "airlines.DEPARTURE_DELAY.count()"
   ]
  },
  {
   "cell_type": "code",
   "execution_count": 9,
   "metadata": {},
   "outputs": [],
   "source": [
    "#remove the columns which are not requierd for the  prediction model\n",
    "\n",
    "df_short = airlines[[\"AIRLINE\",\"MONTH\", \"DAY\", \n",
    "               \"DAY_OF_WEEK\", \"ORIGIN_AIRPORT\", \"DESTINATION_AIRPORT\", \"DEPARTURE_TIME\", \"ARRIVAL_DELAY\"]]"
   ]
  },
  {
   "cell_type": "code",
   "execution_count": 10,
   "metadata": {},
   "outputs": [
    {
     "name": "stderr",
     "output_type": "stream",
     "text": [
      "/Users/riteshvaish/anaconda3/envs/PythonData/lib/python3.6/site-packages/ipykernel_launcher.py:2: SettingWithCopyWarning: \n",
      "A value is trying to be set on a copy of a slice from a DataFrame.\n",
      "Try using .loc[row_indexer,col_indexer] = value instead\n",
      "\n",
      "See the caveats in the documentation: http://pandas.pydata.org/pandas-docs/stable/indexing.html#indexing-view-versus-copy\n",
      "  \n"
     ]
    }
   ],
   "source": [
    "# flights which have a delay for more than 5 mins as considered delayed , less than 5 mins to be considered on time\n",
    "df_short['ARRIVAL_DELAY_B']= np.where(df_short['ARRIVAL_DELAY']>=5, 1, 0)"
   ]
  },
  {
   "cell_type": "code",
   "execution_count": 11,
   "metadata": {},
   "outputs": [
    {
     "data": {
      "text/html": [
       "<div>\n",
       "<style scoped>\n",
       "    .dataframe tbody tr th:only-of-type {\n",
       "        vertical-align: middle;\n",
       "    }\n",
       "\n",
       "    .dataframe tbody tr th {\n",
       "        vertical-align: top;\n",
       "    }\n",
       "\n",
       "    .dataframe thead th {\n",
       "        text-align: right;\n",
       "    }\n",
       "</style>\n",
       "<table border=\"1\" class=\"dataframe\">\n",
       "  <thead>\n",
       "    <tr style=\"text-align: right;\">\n",
       "      <th></th>\n",
       "      <th>AIRLINE</th>\n",
       "      <th>MONTH</th>\n",
       "      <th>DAY</th>\n",
       "      <th>DAY_OF_WEEK</th>\n",
       "      <th>ORIGIN_AIRPORT</th>\n",
       "      <th>DESTINATION_AIRPORT</th>\n",
       "      <th>ARRIVAL_DELAY_B</th>\n",
       "      <th>DEP_HOUR</th>\n",
       "    </tr>\n",
       "  </thead>\n",
       "  <tbody>\n",
       "    <tr>\n",
       "      <th>0</th>\n",
       "      <td>US</td>\n",
       "      <td>1</td>\n",
       "      <td>1</td>\n",
       "      <td>4</td>\n",
       "      <td>SFO</td>\n",
       "      <td>CLT</td>\n",
       "      <td>1</td>\n",
       "      <td>0</td>\n",
       "    </tr>\n",
       "    <tr>\n",
       "      <th>1</th>\n",
       "      <td>DL</td>\n",
       "      <td>1</td>\n",
       "      <td>1</td>\n",
       "      <td>4</td>\n",
       "      <td>SFO</td>\n",
       "      <td>MSP</td>\n",
       "      <td>1</td>\n",
       "      <td>0</td>\n",
       "    </tr>\n",
       "    <tr>\n",
       "      <th>2</th>\n",
       "      <td>DL</td>\n",
       "      <td>1</td>\n",
       "      <td>1</td>\n",
       "      <td>4</td>\n",
       "      <td>SEA</td>\n",
       "      <td>MSP</td>\n",
       "      <td>1</td>\n",
       "      <td>0</td>\n",
       "    </tr>\n",
       "    <tr>\n",
       "      <th>3</th>\n",
       "      <td>NK</td>\n",
       "      <td>1</td>\n",
       "      <td>1</td>\n",
       "      <td>4</td>\n",
       "      <td>LAS</td>\n",
       "      <td>MCI</td>\n",
       "      <td>1</td>\n",
       "      <td>1</td>\n",
       "    </tr>\n",
       "    <tr>\n",
       "      <th>4</th>\n",
       "      <td>AA</td>\n",
       "      <td>1</td>\n",
       "      <td>1</td>\n",
       "      <td>4</td>\n",
       "      <td>SEA</td>\n",
       "      <td>MIA</td>\n",
       "      <td>0</td>\n",
       "      <td>0</td>\n",
       "    </tr>\n",
       "  </tbody>\n",
       "</table>\n",
       "</div>"
      ],
      "text/plain": [
       "  AIRLINE  MONTH  DAY  DAY_OF_WEEK ORIGIN_AIRPORT DESTINATION_AIRPORT  \\\n",
       "0      US      1    1            4            SFO                 CLT   \n",
       "1      DL      1    1            4            SFO                 MSP   \n",
       "2      DL      1    1            4            SEA                 MSP   \n",
       "3      NK      1    1            4            LAS                 MCI   \n",
       "4      AA      1    1            4            SEA                 MIA   \n",
       "\n",
       "   ARRIVAL_DELAY_B  DEP_HOUR  \n",
       "0                1         0  \n",
       "1                1         0  \n",
       "2                1         0  \n",
       "3                1         1  \n",
       "4                0         0  "
      ]
     },
     "execution_count": 11,
     "metadata": {},
     "output_type": "execute_result"
    }
   ],
   "source": [
    "#Drop the rows with null  departure time\n",
    "df_short=df_short.dropna(axis=0, subset=['DEPARTURE_TIME'])\n",
    "#Drop the column which has actual  arrival delay time, as we are using the Departure_B field\n",
    "df_short = df_short.drop('ARRIVAL_DELAY',axis=1)\n",
    "df_short['DEP_HOUR'] = df_short['DEPARTURE_TIME'].apply(lambda x:int(str(x)[:2]) if x>999 else int(str(x)[:1] if x>99 else 0))\n",
    "df_short = df_short.drop('DEPARTURE_TIME',axis=1)\n",
    "df_short.head()"
   ]
  },
  {
   "cell_type": "code",
   "execution_count": 12,
   "metadata": {},
   "outputs": [
    {
     "data": {
      "text/html": [
       "<div>\n",
       "<style scoped>\n",
       "    .dataframe tbody tr th:only-of-type {\n",
       "        vertical-align: middle;\n",
       "    }\n",
       "\n",
       "    .dataframe tbody tr th {\n",
       "        vertical-align: top;\n",
       "    }\n",
       "\n",
       "    .dataframe thead th {\n",
       "        text-align: right;\n",
       "    }\n",
       "</style>\n",
       "<table border=\"1\" class=\"dataframe\">\n",
       "  <thead>\n",
       "    <tr style=\"text-align: right;\">\n",
       "      <th></th>\n",
       "      <th>AIRLINE</th>\n",
       "      <th>MONTH</th>\n",
       "      <th>DAY</th>\n",
       "      <th>DAY_OF_WEEK</th>\n",
       "      <th>ARRIVAL_DELAY_B</th>\n",
       "      <th>DEP_HOUR</th>\n",
       "      <th>ORIGIN_AIRPORT_ABE</th>\n",
       "      <th>ORIGIN_AIRPORT_ABI</th>\n",
       "      <th>ORIGIN_AIRPORT_ABQ</th>\n",
       "      <th>ORIGIN_AIRPORT_ABR</th>\n",
       "      <th>...</th>\n",
       "      <th>DESTINATION_AIRPORT_TYS</th>\n",
       "      <th>DESTINATION_AIRPORT_UST</th>\n",
       "      <th>DESTINATION_AIRPORT_VEL</th>\n",
       "      <th>DESTINATION_AIRPORT_VLD</th>\n",
       "      <th>DESTINATION_AIRPORT_VPS</th>\n",
       "      <th>DESTINATION_AIRPORT_WRG</th>\n",
       "      <th>DESTINATION_AIRPORT_WYS</th>\n",
       "      <th>DESTINATION_AIRPORT_XNA</th>\n",
       "      <th>DESTINATION_AIRPORT_YAK</th>\n",
       "      <th>DESTINATION_AIRPORT_YUM</th>\n",
       "    </tr>\n",
       "  </thead>\n",
       "  <tbody>\n",
       "    <tr>\n",
       "      <th>0</th>\n",
       "      <td>US</td>\n",
       "      <td>1</td>\n",
       "      <td>1</td>\n",
       "      <td>4</td>\n",
       "      <td>1</td>\n",
       "      <td>0</td>\n",
       "      <td>0</td>\n",
       "      <td>0</td>\n",
       "      <td>0</td>\n",
       "      <td>0</td>\n",
       "      <td>...</td>\n",
       "      <td>0</td>\n",
       "      <td>0</td>\n",
       "      <td>0</td>\n",
       "      <td>0</td>\n",
       "      <td>0</td>\n",
       "      <td>0</td>\n",
       "      <td>0</td>\n",
       "      <td>0</td>\n",
       "      <td>0</td>\n",
       "      <td>0</td>\n",
       "    </tr>\n",
       "    <tr>\n",
       "      <th>1</th>\n",
       "      <td>DL</td>\n",
       "      <td>1</td>\n",
       "      <td>1</td>\n",
       "      <td>4</td>\n",
       "      <td>1</td>\n",
       "      <td>0</td>\n",
       "      <td>0</td>\n",
       "      <td>0</td>\n",
       "      <td>0</td>\n",
       "      <td>0</td>\n",
       "      <td>...</td>\n",
       "      <td>0</td>\n",
       "      <td>0</td>\n",
       "      <td>0</td>\n",
       "      <td>0</td>\n",
       "      <td>0</td>\n",
       "      <td>0</td>\n",
       "      <td>0</td>\n",
       "      <td>0</td>\n",
       "      <td>0</td>\n",
       "      <td>0</td>\n",
       "    </tr>\n",
       "    <tr>\n",
       "      <th>2</th>\n",
       "      <td>DL</td>\n",
       "      <td>1</td>\n",
       "      <td>1</td>\n",
       "      <td>4</td>\n",
       "      <td>1</td>\n",
       "      <td>0</td>\n",
       "      <td>0</td>\n",
       "      <td>0</td>\n",
       "      <td>0</td>\n",
       "      <td>0</td>\n",
       "      <td>...</td>\n",
       "      <td>0</td>\n",
       "      <td>0</td>\n",
       "      <td>0</td>\n",
       "      <td>0</td>\n",
       "      <td>0</td>\n",
       "      <td>0</td>\n",
       "      <td>0</td>\n",
       "      <td>0</td>\n",
       "      <td>0</td>\n",
       "      <td>0</td>\n",
       "    </tr>\n",
       "    <tr>\n",
       "      <th>3</th>\n",
       "      <td>NK</td>\n",
       "      <td>1</td>\n",
       "      <td>1</td>\n",
       "      <td>4</td>\n",
       "      <td>1</td>\n",
       "      <td>1</td>\n",
       "      <td>0</td>\n",
       "      <td>0</td>\n",
       "      <td>0</td>\n",
       "      <td>0</td>\n",
       "      <td>...</td>\n",
       "      <td>0</td>\n",
       "      <td>0</td>\n",
       "      <td>0</td>\n",
       "      <td>0</td>\n",
       "      <td>0</td>\n",
       "      <td>0</td>\n",
       "      <td>0</td>\n",
       "      <td>0</td>\n",
       "      <td>0</td>\n",
       "      <td>0</td>\n",
       "    </tr>\n",
       "    <tr>\n",
       "      <th>4</th>\n",
       "      <td>AA</td>\n",
       "      <td>1</td>\n",
       "      <td>1</td>\n",
       "      <td>4</td>\n",
       "      <td>0</td>\n",
       "      <td>0</td>\n",
       "      <td>0</td>\n",
       "      <td>0</td>\n",
       "      <td>0</td>\n",
       "      <td>0</td>\n",
       "      <td>...</td>\n",
       "      <td>0</td>\n",
       "      <td>0</td>\n",
       "      <td>0</td>\n",
       "      <td>0</td>\n",
       "      <td>0</td>\n",
       "      <td>0</td>\n",
       "      <td>0</td>\n",
       "      <td>0</td>\n",
       "      <td>0</td>\n",
       "      <td>0</td>\n",
       "    </tr>\n",
       "  </tbody>\n",
       "</table>\n",
       "<p>5 rows × 650 columns</p>\n",
       "</div>"
      ],
      "text/plain": [
       "  AIRLINE  MONTH  DAY  DAY_OF_WEEK  ARRIVAL_DELAY_B  DEP_HOUR  \\\n",
       "0      US      1    1            4                1         0   \n",
       "1      DL      1    1            4                1         0   \n",
       "2      DL      1    1            4                1         0   \n",
       "3      NK      1    1            4                1         1   \n",
       "4      AA      1    1            4                0         0   \n",
       "\n",
       "   ORIGIN_AIRPORT_ABE  ORIGIN_AIRPORT_ABI  ORIGIN_AIRPORT_ABQ  \\\n",
       "0                   0                   0                   0   \n",
       "1                   0                   0                   0   \n",
       "2                   0                   0                   0   \n",
       "3                   0                   0                   0   \n",
       "4                   0                   0                   0   \n",
       "\n",
       "   ORIGIN_AIRPORT_ABR  ...  DESTINATION_AIRPORT_TYS  DESTINATION_AIRPORT_UST  \\\n",
       "0                   0  ...                        0                        0   \n",
       "1                   0  ...                        0                        0   \n",
       "2                   0  ...                        0                        0   \n",
       "3                   0  ...                        0                        0   \n",
       "4                   0  ...                        0                        0   \n",
       "\n",
       "   DESTINATION_AIRPORT_VEL  DESTINATION_AIRPORT_VLD  DESTINATION_AIRPORT_VPS  \\\n",
       "0                        0                        0                        0   \n",
       "1                        0                        0                        0   \n",
       "2                        0                        0                        0   \n",
       "3                        0                        0                        0   \n",
       "4                        0                        0                        0   \n",
       "\n",
       "   DESTINATION_AIRPORT_WRG  DESTINATION_AIRPORT_WYS  DESTINATION_AIRPORT_XNA  \\\n",
       "0                        0                        0                        0   \n",
       "1                        0                        0                        0   \n",
       "2                        0                        0                        0   \n",
       "3                        0                        0                        0   \n",
       "4                        0                        0                        0   \n",
       "\n",
       "   DESTINATION_AIRPORT_YAK  DESTINATION_AIRPORT_YUM  \n",
       "0                        0                        0  \n",
       "1                        0                        0  \n",
       "2                        0                        0  \n",
       "3                        0                        0  \n",
       "4                        0                        0  \n",
       "\n",
       "[5 rows x 650 columns]"
      ]
     },
     "execution_count": 12,
     "metadata": {},
     "output_type": "execute_result"
    }
   ],
   "source": [
    "df_All = pd.get_dummies(df_short, columns=['ORIGIN_AIRPORT', 'DESTINATION_AIRPORT'])\n",
    "df_All.head()"
   ]
  },
  {
   "cell_type": "code",
   "execution_count": 82,
   "metadata": {},
   "outputs": [
    {
     "data": {
      "text/plain": [
       "1963616"
      ]
     },
     "execution_count": 82,
     "metadata": {},
     "output_type": "execute_result"
    }
   ],
   "source": [
    "df_All.MONTH.count()"
   ]
  },
  {
   "cell_type": "code",
   "execution_count": 78,
   "metadata": {},
   "outputs": [
    {
     "name": "stdout",
     "output_type": "stream",
     "text": [
      "US\n",
      "=================================================\n",
      "df_US\n",
      "76887\n",
      "(61509, 648)\n",
      "(15378, 648)\n"
     ]
    },
    {
     "name": "stderr",
     "output_type": "stream",
     "text": [
      "/Users/riteshvaish/anaconda3/envs/PythonData/lib/python3.6/site-packages/sklearn/ensemble/forest.py:246: FutureWarning: The default value of n_estimators will change from 10 in version 0.20 to 100 in 0.22.\n",
      "  \"10 in version 0.20 to 100 in 0.22.\", FutureWarning)\n"
     ]
    },
    {
     "name": "stdout",
     "output_type": "stream",
     "text": [
      "model.score = (US)0.7369618936142541\n",
      "roc score = 0.5779414242456317\n",
      "confusion matrix = [[  559  2653]\n",
      " [ 1392 10774]]\n",
      "DL\n",
      "=================================================\n",
      "df_DL\n",
      "236820\n",
      "(189456, 648)\n",
      "(47364, 648)\n"
     ]
    },
    {
     "name": "stderr",
     "output_type": "stream",
     "text": [
      "/Users/riteshvaish/anaconda3/envs/PythonData/lib/python3.6/site-packages/sklearn/ensemble/forest.py:246: FutureWarning: The default value of n_estimators will change from 10 in version 0.20 to 100 in 0.22.\n",
      "  \"10 in version 0.20 to 100 in 0.22.\", FutureWarning)\n"
     ]
    },
    {
     "name": "stdout",
     "output_type": "stream",
     "text": [
      "model.score = (DL)0.7284224305379613\n",
      "roc score = 0.5963391329498432\n",
      "confusion matrix = [[ 1936  8676]\n",
      " [ 4187 32565]]\n",
      "NK\n",
      "=================================================\n",
      "df_NK\n",
      "52876\n",
      "(42300, 648)\n",
      "(10576, 648)\n"
     ]
    },
    {
     "name": "stderr",
     "output_type": "stream",
     "text": [
      "/Users/riteshvaish/anaconda3/envs/PythonData/lib/python3.6/site-packages/sklearn/ensemble/forest.py:246: FutureWarning: The default value of n_estimators will change from 10 in version 0.20 to 100 in 0.22.\n",
      "  \"10 in version 0.20 to 100 in 0.22.\", FutureWarning)\n"
     ]
    },
    {
     "name": "stdout",
     "output_type": "stream",
     "text": [
      "model.score = (NK)0.8234682299546142\n",
      "roc score = 0.598889967156614\n",
      "confusion matrix = [[ 169 1338]\n",
      " [ 529 8540]]\n",
      "AA\n",
      "=================================================\n",
      "df_AA\n",
      "232017\n",
      "(185613, 648)\n",
      "(46404, 648)\n"
     ]
    },
    {
     "name": "stderr",
     "output_type": "stream",
     "text": [
      "/Users/riteshvaish/anaconda3/envs/PythonData/lib/python3.6/site-packages/sklearn/ensemble/forest.py:246: FutureWarning: The default value of n_estimators will change from 10 in version 0.20 to 100 in 0.22.\n",
      "  \"10 in version 0.20 to 100 in 0.22.\", FutureWarning)\n"
     ]
    },
    {
     "name": "stdout",
     "output_type": "stream",
     "text": [
      "model.score = (AA)0.7583613481596414\n",
      "roc score = 0.5786369934533812\n",
      "confusion matrix = [[ 1353  7750]\n",
      " [ 3463 33838]]\n",
      "HA\n",
      "=================================================\n",
      "df_HA\n",
      "28008\n",
      "(22406, 648)\n",
      "(5602, 648)\n"
     ]
    },
    {
     "name": "stderr",
     "output_type": "stream",
     "text": [
      "/Users/riteshvaish/anaconda3/envs/PythonData/lib/python3.6/site-packages/sklearn/ensemble/forest.py:246: FutureWarning: The default value of n_estimators will change from 10 in version 0.20 to 100 in 0.22.\n",
      "  \"10 in version 0.20 to 100 in 0.22.\", FutureWarning)\n"
     ]
    },
    {
     "name": "stdout",
     "output_type": "stream",
     "text": [
      "model.score = (HA)0.6383434487682971\n",
      "roc score = 0.6214209172553605\n",
      "confusion matrix = [[ 752 1096]\n",
      " [ 930 2824]]\n",
      "B6\n",
      "=================================================\n",
      "df_B6\n",
      "94601\n",
      "(75680, 648)\n",
      "(18921, 648)\n"
     ]
    },
    {
     "name": "stderr",
     "output_type": "stream",
     "text": [
      "/Users/riteshvaish/anaconda3/envs/PythonData/lib/python3.6/site-packages/sklearn/ensemble/forest.py:246: FutureWarning: The default value of n_estimators will change from 10 in version 0.20 to 100 in 0.22.\n",
      "  \"10 in version 0.20 to 100 in 0.22.\", FutureWarning)\n"
     ]
    },
    {
     "name": "stdout",
     "output_type": "stream",
     "text": [
      "model.score = (B6)0.8036044606521854\n",
      "roc score = 0.5993903818659295\n",
      "confusion matrix = [[  377  2657]\n",
      " [ 1059 14828]]\n",
      "UA\n",
      "=================================================\n",
      "df_UA\n",
      "176167\n",
      "(140933, 648)\n",
      "(35234, 648)\n"
     ]
    },
    {
     "name": "stderr",
     "output_type": "stream",
     "text": [
      "/Users/riteshvaish/anaconda3/envs/PythonData/lib/python3.6/site-packages/sklearn/ensemble/forest.py:246: FutureWarning: The default value of n_estimators will change from 10 in version 0.20 to 100 in 0.22.\n",
      "  \"10 in version 0.20 to 100 in 0.22.\", FutureWarning)\n"
     ]
    },
    {
     "name": "stdout",
     "output_type": "stream",
     "text": [
      "model.score = (UA)0.7866833172503832\n",
      "roc score = 0.5780518691880903\n",
      "confusion matrix = [[  674  5395]\n",
      " [ 2121 27044]]\n",
      "OO\n",
      "=================================================\n",
      "df_OO\n",
      "207944\n",
      "(166355, 648)\n",
      "(41589, 648)\n"
     ]
    },
    {
     "name": "stderr",
     "output_type": "stream",
     "text": [
      "/Users/riteshvaish/anaconda3/envs/PythonData/lib/python3.6/site-packages/sklearn/ensemble/forest.py:246: FutureWarning: The default value of n_estimators will change from 10 in version 0.20 to 100 in 0.22.\n",
      "  \"10 in version 0.20 to 100 in 0.22.\", FutureWarning)\n"
     ]
    },
    {
     "name": "stdout",
     "output_type": "stream",
     "text": [
      "model.score = (OO)0.7378393325158095\n",
      "roc score = 0.6039499982570382\n",
      "confusion matrix = [[ 1743  7303]\n",
      " [ 3600 28943]]\n",
      "EV\n",
      "=================================================\n",
      "df_EV\n",
      "200321\n",
      "(160256, 648)\n",
      "(40065, 648)\n"
     ]
    },
    {
     "name": "stderr",
     "output_type": "stream",
     "text": [
      "/Users/riteshvaish/anaconda3/envs/PythonData/lib/python3.6/site-packages/sklearn/ensemble/forest.py:246: FutureWarning: The default value of n_estimators will change from 10 in version 0.20 to 100 in 0.22.\n",
      "  \"10 in version 0.20 to 100 in 0.22.\", FutureWarning)\n"
     ]
    },
    {
     "name": "stdout",
     "output_type": "stream",
     "text": [
      "model.score = (EV)0.7565705728191688\n",
      "roc score = 0.5909899381644511\n",
      "confusion matrix = [[ 1161  6958]\n",
      " [ 2795 29151]]\n",
      "F9\n",
      "=================================================\n",
      "df_F9\n",
      "38880\n",
      "(31104, 648)\n",
      "(7776, 648)\n"
     ]
    },
    {
     "name": "stderr",
     "output_type": "stream",
     "text": [
      "/Users/riteshvaish/anaconda3/envs/PythonData/lib/python3.6/site-packages/sklearn/ensemble/forest.py:246: FutureWarning: The default value of n_estimators will change from 10 in version 0.20 to 100 in 0.22.\n",
      "  \"10 in version 0.20 to 100 in 0.22.\", FutureWarning)\n"
     ]
    },
    {
     "name": "stdout",
     "output_type": "stream",
     "text": [
      "model.score = (F9)0.7973251028806584\n",
      "roc score = 0.5891370929073655\n",
      "confusion matrix = [[ 153 1156]\n",
      " [ 420 6047]]\n",
      "WN\n",
      "=================================================\n",
      "df_WN\n",
      "443630\n",
      "(354904, 648)\n",
      "(88726, 648)\n"
     ]
    },
    {
     "name": "stderr",
     "output_type": "stream",
     "text": [
      "/Users/riteshvaish/anaconda3/envs/PythonData/lib/python3.6/site-packages/sklearn/ensemble/forest.py:246: FutureWarning: The default value of n_estimators will change from 10 in version 0.20 to 100 in 0.22.\n",
      "  \"10 in version 0.20 to 100 in 0.22.\", FutureWarning)\n"
     ]
    },
    {
     "name": "stdout",
     "output_type": "stream",
     "text": [
      "model.score = (WN)0.7588643689561121\n",
      "roc score = 0.6022721731068836\n",
      "confusion matrix = [[ 2980 14793]\n",
      " [ 6602 64351]]\n",
      "AS\n",
      "=================================================\n",
      "df_AS\n",
      "52898\n",
      "(42318, 648)\n",
      "(10580, 648)\n"
     ]
    },
    {
     "name": "stderr",
     "output_type": "stream",
     "text": [
      "/Users/riteshvaish/anaconda3/envs/PythonData/lib/python3.6/site-packages/sklearn/ensemble/forest.py:246: FutureWarning: The default value of n_estimators will change from 10 in version 0.20 to 100 in 0.22.\n",
      "  \"10 in version 0.20 to 100 in 0.22.\", FutureWarning)\n"
     ]
    },
    {
     "name": "stdout",
     "output_type": "stream",
     "text": [
      "model.score = (AS)0.6783553875236294\n",
      "roc score = 0.5789769204536799\n",
      "confusion matrix = [[ 662 2117]\n",
      " [1286 6515]]\n",
      "MQ\n",
      "=================================================\n",
      "df_MQ\n",
      "100192\n",
      "(80153, 648)\n",
      "(20039, 648)\n"
     ]
    },
    {
     "name": "stderr",
     "output_type": "stream",
     "text": [
      "/Users/riteshvaish/anaconda3/envs/PythonData/lib/python3.6/site-packages/sklearn/ensemble/forest.py:246: FutureWarning: The default value of n_estimators will change from 10 in version 0.20 to 100 in 0.22.\n",
      "  \"10 in version 0.20 to 100 in 0.22.\", FutureWarning)\n"
     ]
    },
    {
     "name": "stdout",
     "output_type": "stream",
     "text": [
      "model.score = (MQ)0.7993911871849892\n",
      "roc score = 0.583371168376883\n",
      "confusion matrix = [[  385  2920]\n",
      " [ 1100 15634]]\n",
      "VX\n",
      "=================================================\n",
      "df_VX\n",
      "22375\n",
      "(17900, 648)\n",
      "(4475, 648)\n"
     ]
    },
    {
     "name": "stderr",
     "output_type": "stream",
     "text": [
      "/Users/riteshvaish/anaconda3/envs/PythonData/lib/python3.6/site-packages/sklearn/ensemble/forest.py:246: FutureWarning: The default value of n_estimators will change from 10 in version 0.20 to 100 in 0.22.\n",
      "  \"10 in version 0.20 to 100 in 0.22.\", FutureWarning)\n"
     ]
    },
    {
     "name": "stdout",
     "output_type": "stream",
     "text": [
      "model.score = (VX)0.7494972067039106\n",
      "roc score = 0.5846896338382407\n",
      "confusion matrix = [[ 144  740]\n",
      " [ 381 3210]]\n"
     ]
    }
   ],
   "source": [
    "#data modelling \n",
    "from sklearn.model_selection import train_test_split\n",
    "from sklearn.ensemble import RandomForestClassifier\n",
    "from sklearn.metrics import roc_auc_score\n",
    "from sklearn.metrics import confusion_matrix\n",
    "\n",
    "#Create Dataframe to store \n",
    "dfObj = pd.DataFrame(columns=['AIRLINES', 'SCORE', 'ROC'])\n",
    "\n",
    "# Start loop here \n",
    "#for airline in air\n",
    "list_airlines = df_All.AIRLINE.unique()\n",
    "#list_airlines\n",
    "#airline = 'DL'\n",
    "for airline in list_airlines:\n",
    "    print (airline)\n",
    "    print(\"=================================================\")\n",
    "    df_name = \"df_\" + airline\n",
    "    print (df_name)\n",
    "    df_name = df_All[df_All.AIRLINE == airline]\n",
    "    #print (df_name.DEPARTURE_TIME.count())\n",
    "    df_name = df_name.drop('AIRLINE',axis=1)\n",
    "    #write data in a csv file\n",
    "    df_name.to_csv (\"data/\"+ airline + \"_testdata.csv\", index = None, header=True)\n",
    "    #if (airline == \"DL\"):\n",
    "    print (df_name.DEP_HOUR.count())\n",
    "    #print(df_name.head())\n",
    "    #print(df_DL[df_DL.isnull().values.any(axis=1)].head())\n",
    "    train_x, test_x, train_y, test_y = train_test_split(df_name.drop('ARRIVAL_DELAY_B', axis=1),\n",
    "                                                    df_name['ARRIVAL_DELAY_B'], test_size=0.2, random_state=101)\n",
    "    print(train_x.shape)\n",
    "    print(test_x.shape)\n",
    "    model = RandomForestClassifier(random_state=13)\n",
    "    model.fit(train_x, train_y)\n",
    "    predicted = model.predict(test_x)\n",
    "    score= model.score(test_x, test_y)\n",
    "    print (\"model.score = (\"+ airline +\")\" + str(score))\n",
    "    logmodel_name = \"model/\"+ airline + \"_logmodel\" + \".pkl\"\n",
    "    joblib.dump(model, logmodel_name)\n",
    "    probabilities = model.predict_proba(test_x)\n",
    "    roc_score = roc_auc_score(test_y, probabilities[:, 1])\n",
    "    print (\"roc score = \" + str(roc_score))\n",
    "    print (\"confusion matrix = \" + str(confusion_matrix(test_y, predicted)))\n",
    "    #data = dfObj.append(pd.DataFrame({'AIRLINES': airline , 'SCORE': score, 'ROC': roc_score }, index=[0]), ignore_index=True)\n",
    "    dfObj= dfObj.append({'AIRLINES': airline , 'SCORE': score , 'ROC': roc_score }, ignore_index=True)"
   ]
  },
  {
   "cell_type": "code",
   "execution_count": 79,
   "metadata": {},
   "outputs": [
    {
     "data": {
      "text/html": [
       "<div>\n",
       "<style scoped>\n",
       "    .dataframe tbody tr th:only-of-type {\n",
       "        vertical-align: middle;\n",
       "    }\n",
       "\n",
       "    .dataframe tbody tr th {\n",
       "        vertical-align: top;\n",
       "    }\n",
       "\n",
       "    .dataframe thead th {\n",
       "        text-align: right;\n",
       "    }\n",
       "</style>\n",
       "<table border=\"1\" class=\"dataframe\">\n",
       "  <thead>\n",
       "    <tr style=\"text-align: right;\">\n",
       "      <th></th>\n",
       "      <th>AIRLINES</th>\n",
       "      <th>SCORE</th>\n",
       "      <th>ROC</th>\n",
       "    </tr>\n",
       "  </thead>\n",
       "  <tbody>\n",
       "    <tr>\n",
       "      <th>0</th>\n",
       "      <td>US</td>\n",
       "      <td>0.736962</td>\n",
       "      <td>0.577941</td>\n",
       "    </tr>\n",
       "    <tr>\n",
       "      <th>1</th>\n",
       "      <td>DL</td>\n",
       "      <td>0.728422</td>\n",
       "      <td>0.596339</td>\n",
       "    </tr>\n",
       "    <tr>\n",
       "      <th>2</th>\n",
       "      <td>NK</td>\n",
       "      <td>0.823468</td>\n",
       "      <td>0.598890</td>\n",
       "    </tr>\n",
       "    <tr>\n",
       "      <th>3</th>\n",
       "      <td>AA</td>\n",
       "      <td>0.758361</td>\n",
       "      <td>0.578637</td>\n",
       "    </tr>\n",
       "    <tr>\n",
       "      <th>4</th>\n",
       "      <td>HA</td>\n",
       "      <td>0.638343</td>\n",
       "      <td>0.621421</td>\n",
       "    </tr>\n",
       "    <tr>\n",
       "      <th>5</th>\n",
       "      <td>B6</td>\n",
       "      <td>0.803604</td>\n",
       "      <td>0.599390</td>\n",
       "    </tr>\n",
       "    <tr>\n",
       "      <th>6</th>\n",
       "      <td>UA</td>\n",
       "      <td>0.786683</td>\n",
       "      <td>0.578052</td>\n",
       "    </tr>\n",
       "    <tr>\n",
       "      <th>7</th>\n",
       "      <td>OO</td>\n",
       "      <td>0.737839</td>\n",
       "      <td>0.603950</td>\n",
       "    </tr>\n",
       "    <tr>\n",
       "      <th>8</th>\n",
       "      <td>EV</td>\n",
       "      <td>0.756571</td>\n",
       "      <td>0.590990</td>\n",
       "    </tr>\n",
       "    <tr>\n",
       "      <th>9</th>\n",
       "      <td>F9</td>\n",
       "      <td>0.797325</td>\n",
       "      <td>0.589137</td>\n",
       "    </tr>\n",
       "    <tr>\n",
       "      <th>10</th>\n",
       "      <td>WN</td>\n",
       "      <td>0.758864</td>\n",
       "      <td>0.602272</td>\n",
       "    </tr>\n",
       "    <tr>\n",
       "      <th>11</th>\n",
       "      <td>AS</td>\n",
       "      <td>0.678355</td>\n",
       "      <td>0.578977</td>\n",
       "    </tr>\n",
       "    <tr>\n",
       "      <th>12</th>\n",
       "      <td>MQ</td>\n",
       "      <td>0.799391</td>\n",
       "      <td>0.583371</td>\n",
       "    </tr>\n",
       "    <tr>\n",
       "      <th>13</th>\n",
       "      <td>VX</td>\n",
       "      <td>0.749497</td>\n",
       "      <td>0.584690</td>\n",
       "    </tr>\n",
       "  </tbody>\n",
       "</table>\n",
       "</div>"
      ],
      "text/plain": [
       "   AIRLINES     SCORE       ROC\n",
       "0        US  0.736962  0.577941\n",
       "1        DL  0.728422  0.596339\n",
       "2        NK  0.823468  0.598890\n",
       "3        AA  0.758361  0.578637\n",
       "4        HA  0.638343  0.621421\n",
       "5        B6  0.803604  0.599390\n",
       "6        UA  0.786683  0.578052\n",
       "7        OO  0.737839  0.603950\n",
       "8        EV  0.756571  0.590990\n",
       "9        F9  0.797325  0.589137\n",
       "10       WN  0.758864  0.602272\n",
       "11       AS  0.678355  0.578977\n",
       "12       MQ  0.799391  0.583371\n",
       "13       VX  0.749497  0.584690"
      ]
     },
     "execution_count": 79,
     "metadata": {},
     "output_type": "execute_result"
    }
   ],
   "source": [
    "#Scores\n",
    "dfObj"
   ]
  },
  {
   "cell_type": "code",
   "execution_count": 80,
   "metadata": {},
   "outputs": [
    {
     "data": {
      "text/plain": [
       "<matplotlib.axes._subplots.AxesSubplot at 0xa1dd3b550>"
      ]
     },
     "execution_count": 80,
     "metadata": {},
     "output_type": "execute_result"
    },
    {
     "data": {
      "image/png": "[encoded data removed]",
      "text/plain": [
       "<Figure size 432x288 with 1 Axes>"
      ]
     },
     "metadata": {
      "needs_background": "light"
     },
     "output_type": "display_data"
    }
   ],
   "source": [
    "dfObj.plot(kind='bar',x='AIRLINES')"
   ]
  },
  {
   "cell_type": "code",
   "execution_count": 81,
   "metadata": {},
   "outputs": [
    {
     "data": {
      "text/plain": [
       "<matplotlib.axes._subplots.AxesSubplot at 0xa1abddc18>"
      ]
     },
     "execution_count": 81,
     "metadata": {},
     "output_type": "execute_result"
    },
    {
     "data": {
      "image/png": "[encoded data removed]",
      "text/plain": [
       "<Figure size 432x288 with 1 Axes>"
      ]
     },
     "metadata": {
      "needs_background": "light"
     },
     "output_type": "display_data"
    }
   ],
   "source": [
    "dfObj.plot(kind='line',x='AIRLINES')"
   ]
  },
  {
   "cell_type": "code",
   "execution_count": null,
   "metadata": {},
   "outputs": [],
   "source": []
  }
 ],
 "metadata": {
  "kernelspec": {
   "display_name": "Python 3",
   "language": "python",
   "name": "python3"
  },
  "language_info": {
   "codemirror_mode": {
    "name": "ipython",
    "version": 3
   },
   "file_extension": ".py",
   "mimetype": "text/x-python",
   "name": "python",
   "nbconvert_exporter": "python",
   "pygments_lexer": "ipython3",
   "version": "3.6.8"
  }
 },
 "nbformat": 4,
 "nbformat_minor": 2
}

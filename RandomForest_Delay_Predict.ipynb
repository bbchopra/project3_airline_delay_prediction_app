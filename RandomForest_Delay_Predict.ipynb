{
 "cells": [
  {
   "cell_type": "code",
   "execution_count": 16,
   "metadata": {},
   "outputs": [],
   "source": [
    "import pandas as pd\n",
    "import numpy as np\n",
    "import matplotlib.pyplot as plt\n",
    "import os\n",
    "import time\n",
    "from sklearn.externals import joblib\n",
    "import json"
   ]
  },
  {
   "cell_type": "code",
   "execution_count": 17,
   "metadata": {},
   "outputs": [],
   "source": [
    "########## This is the valid code ##############################################################################\n",
    "#hardcode input values here\n",
    "month = 2\n",
    "day = 15\n",
    "week_day = 3\n",
    "departure_hour = 14\n",
    "origin = \"ABR\"\n",
    "dest = \"XNA\""
   ]
  },
  {
   "cell_type": "code",
   "execution_count": 18,
   "metadata": {},
   "outputs": [],
   "source": [
    "#create dictionary for airline delay\n",
    "dict_ad = {}"
   ]
  },
  {
   "cell_type": "code",
   "execution_count": 19,
   "metadata": {},
   "outputs": [],
   "source": [
    "#Create Dataframe to store \n",
    "result = pd.DataFrame(columns=['AIRLINES', 'Prediction'])"
   ]
  },
  {
   "cell_type": "code",
   "execution_count": 20,
   "metadata": {},
   "outputs": [
    {
     "data": {
      "text/html": [
       "<div>\n",
       "<style scoped>\n",
       "    .dataframe tbody tr th:only-of-type {\n",
       "        vertical-align: middle;\n",
       "    }\n",
       "\n",
       "    .dataframe tbody tr th {\n",
       "        vertical-align: top;\n",
       "    }\n",
       "\n",
       "    .dataframe thead th {\n",
       "        text-align: right;\n",
       "    }\n",
       "</style>\n",
       "<table border=\"1\" class=\"dataframe\">\n",
       "  <thead>\n",
       "    <tr style=\"text-align: right;\">\n",
       "      <th></th>\n",
       "      <th>AIRLINES</th>\n",
       "      <th>Prediction</th>\n",
       "    </tr>\n",
       "  </thead>\n",
       "  <tbody>\n",
       "  </tbody>\n",
       "</table>\n",
       "</div>"
      ],
      "text/plain": [
       "Empty DataFrame\n",
       "Columns: [AIRLINES, Prediction]\n",
       "Index: []"
      ]
     },
     "execution_count": 20,
     "metadata": {},
     "output_type": "execute_result"
    }
   ],
   "source": [
    "result"
   ]
  },
  {
   "cell_type": "code",
   "execution_count": 21,
   "metadata": {},
   "outputs": [
    {
     "name": "stdout",
     "output_type": "stream",
     "text": [
      "================US Prediction=================================\n",
      "user_df shape = (1, 648)\n",
      "running model model/US_logmodel.pkl\n",
      "0.2\n",
      "================DL Prediction=================================\n",
      "user_df shape = (1, 648)\n",
      "running model model/DL_logmodel.pkl\n",
      "0.2\n",
      "================NK Prediction=================================\n",
      "user_df shape = (1, 648)\n",
      "running model model/NK_logmodel.pkl\n",
      "0.1\n",
      "================AA Prediction=================================\n",
      "user_df shape = (1, 648)\n",
      "running model model/AA_logmodel.pkl\n",
      "0.2\n",
      "================AS Prediction=================================\n",
      "user_df shape = (1, 648)\n",
      "running model model/AS_logmodel.pkl\n",
      "0.2\n",
      "================HA Prediction=================================\n",
      "user_df shape = (1, 648)\n",
      "running model model/HA_logmodel.pkl\n",
      "0.2\n",
      "================B6 Prediction=================================\n",
      "user_df shape = (1, 648)\n",
      "running model model/B6_logmodel.pkl\n",
      "0.1\n",
      "================UA Prediction=================================\n",
      "user_df shape = (1, 648)\n",
      "running model model/UA_logmodel.pkl\n",
      "0.3\n",
      "================OO Prediction=================================\n",
      "user_df shape = (1, 648)\n",
      "running model model/OO_logmodel.pkl\n",
      "0.3\n",
      "================EV Prediction=================================\n",
      "user_df shape = (1, 648)\n",
      "running model model/EV_logmodel.pkl\n",
      "0.1\n",
      "================MQ Prediction=================================\n",
      "user_df shape = (1, 648)\n",
      "running model model/MQ_logmodel.pkl\n",
      "0.2\n",
      "================F9 Prediction=================================\n",
      "user_df shape = (1, 648)\n",
      "running model model/F9_logmodel.pkl\n",
      "0.1\n",
      "================WN Prediction=================================\n",
      "user_df shape = (1, 648)\n",
      "running model model/WN_logmodel.pkl\n",
      "0.4\n",
      "================VX Prediction=================================\n",
      "user_df shape = (1, 648)\n",
      "running model model/VX_logmodel.pkl\n",
      "0.1\n"
     ]
    }
   ],
   "source": [
    "\n",
    "# get the ist of airlines\n",
    "airlines = pd.read_csv('airline_clean_data_0722.csv')\n",
    "list_airlines = airlines.AIRLINE.unique()\n",
    "for airline in list_airlines:\n",
    "    #print (airline)\n",
    "    print(\"================\" + airline + \" Prediction=================================\")\n",
    "    df_name = \"data/\" + airline + \"_testdata.csv\"\n",
    "    #print (\"reading test data from file \" + df_name)\n",
    "    #my_df = pd.read_csv(\"data/DL_testdata.csv\")\n",
    "    my_df = pd.read_csv(df_name)\n",
    "    #print(my_df.head())\n",
    "    my_df=my_df.drop('ARRIVAL_DELAY_B',axis=1)\n",
    "    user_df = pd.DataFrame().reindex_like(my_df)\n",
    "    #remove all the data except the header/columns\n",
    "    user_df.drop(my_df.index, inplace=True)\n",
    "    #print(user_df)\n",
    "    ZEROS = np.zeros((1,648), dtype=np.int)\n",
    "    user_df = pd.DataFrame(ZEROS, columns = user_df.columns)\n",
    "    #print(user_df)\n",
    "    user_df['MONTH'] = month\n",
    "    user_df['DAY'] = day\n",
    "    user_df['DAY_OF_WEEK'] = week_day\n",
    "    user_df['DEP_HOUR'] = departure_hour\n",
    "    user_df['ORIGIN_AIRPORT_' + str(origin)] = 1\n",
    "    user_df['DESTINATION_AIRPORT_' + str(dest)] = 1\n",
    "    #print(\"user_df = \" + str(user_df))\n",
    "    print(\"user_df shape = \" + str(user_df.shape))\n",
    "    model_name = \"model/\" + airline + \"_logmodel.pkl\"\n",
    "    print (\"running model \" + model_name)\n",
    "    logmodel = joblib.load(model_name)\n",
    "    prob = logmodel.predict_proba(user_df)[0][0]\n",
    "    print (prob)\n",
    "    dict_ad[airline] = prob\n",
    "    result= result.append({'AIRLINES': airline , 'Prediction': prob }, ignore_index=True)\n",
    "\n",
    "with open('data/result.json', 'w') as fp:\n",
    "    json.dump(dict_ad, fp)\n",
    "    \n",
    "####### Valid code ends here ############################################################################"
   ]
  },
  {
   "cell_type": "code",
   "execution_count": 22,
   "metadata": {},
   "outputs": [
    {
     "data": {
      "text/plain": [
       "<matplotlib.axes._subplots.AxesSubplot at 0xa27123160>"
      ]
     },
     "execution_count": 22,
     "metadata": {},
     "output_type": "execute_result"
    },
    {
     "data": {
      "image/png": "[encoded data removed]",
      "text/plain": [
       "<Figure size 432x288 with 1 Axes>"
      ]
     },
     "metadata": {
      "needs_background": "light"
     },
     "output_type": "display_data"
    }
   ],
   "source": [
    "result.plot(kind='bar',x='AIRLINES')"
   ]
  },
  {
   "cell_type": "code",
   "execution_count": 23,
   "metadata": {},
   "outputs": [
    {
     "data": {
      "text/html": [
       "<div>\n",
       "<style scoped>\n",
       "    .dataframe tbody tr th:only-of-type {\n",
       "        vertical-align: middle;\n",
       "    }\n",
       "\n",
       "    .dataframe tbody tr th {\n",
       "        vertical-align: top;\n",
       "    }\n",
       "\n",
       "    .dataframe thead th {\n",
       "        text-align: right;\n",
       "    }\n",
       "</style>\n",
       "<table border=\"1\" class=\"dataframe\">\n",
       "  <thead>\n",
       "    <tr style=\"text-align: right;\">\n",
       "      <th></th>\n",
       "      <th>AIRLINES</th>\n",
       "      <th>Prediction</th>\n",
       "    </tr>\n",
       "  </thead>\n",
       "  <tbody>\n",
       "    <tr>\n",
       "      <th>0</th>\n",
       "      <td>US</td>\n",
       "      <td>0.2</td>\n",
       "    </tr>\n",
       "    <tr>\n",
       "      <th>1</th>\n",
       "      <td>DL</td>\n",
       "      <td>0.2</td>\n",
       "    </tr>\n",
       "    <tr>\n",
       "      <th>2</th>\n",
       "      <td>NK</td>\n",
       "      <td>0.1</td>\n",
       "    </tr>\n",
       "    <tr>\n",
       "      <th>3</th>\n",
       "      <td>AA</td>\n",
       "      <td>0.2</td>\n",
       "    </tr>\n",
       "    <tr>\n",
       "      <th>4</th>\n",
       "      <td>AS</td>\n",
       "      <td>0.2</td>\n",
       "    </tr>\n",
       "    <tr>\n",
       "      <th>5</th>\n",
       "      <td>HA</td>\n",
       "      <td>0.2</td>\n",
       "    </tr>\n",
       "    <tr>\n",
       "      <th>6</th>\n",
       "      <td>B6</td>\n",
       "      <td>0.1</td>\n",
       "    </tr>\n",
       "    <tr>\n",
       "      <th>7</th>\n",
       "      <td>UA</td>\n",
       "      <td>0.3</td>\n",
       "    </tr>\n",
       "    <tr>\n",
       "      <th>8</th>\n",
       "      <td>OO</td>\n",
       "      <td>0.3</td>\n",
       "    </tr>\n",
       "    <tr>\n",
       "      <th>9</th>\n",
       "      <td>EV</td>\n",
       "      <td>0.1</td>\n",
       "    </tr>\n",
       "    <tr>\n",
       "      <th>10</th>\n",
       "      <td>MQ</td>\n",
       "      <td>0.2</td>\n",
       "    </tr>\n",
       "    <tr>\n",
       "      <th>11</th>\n",
       "      <td>F9</td>\n",
       "      <td>0.1</td>\n",
       "    </tr>\n",
       "    <tr>\n",
       "      <th>12</th>\n",
       "      <td>WN</td>\n",
       "      <td>0.4</td>\n",
       "    </tr>\n",
       "    <tr>\n",
       "      <th>13</th>\n",
       "      <td>VX</td>\n",
       "      <td>0.1</td>\n",
       "    </tr>\n",
       "  </tbody>\n",
       "</table>\n",
       "</div>"
      ],
      "text/plain": [
       "   AIRLINES  Prediction\n",
       "0        US         0.2\n",
       "1        DL         0.2\n",
       "2        NK         0.1\n",
       "3        AA         0.2\n",
       "4        AS         0.2\n",
       "5        HA         0.2\n",
       "6        B6         0.1\n",
       "7        UA         0.3\n",
       "8        OO         0.3\n",
       "9        EV         0.1\n",
       "10       MQ         0.2\n",
       "11       F9         0.1\n",
       "12       WN         0.4\n",
       "13       VX         0.1"
      ]
     },
     "execution_count": 23,
     "metadata": {},
     "output_type": "execute_result"
    }
   ],
   "source": [
    "result"
   ]
  },
  {
   "cell_type": "code",
   "execution_count": null,
   "metadata": {},
   "outputs": [],
   "source": []
  }
 ],
 "metadata": {
  "kernel_info": {
   "name": "dev"
  },
  "kernelspec": {
   "display_name": "Python 3",
   "language": "python",
   "name": "python3"
  },
  "language_info": {
   "codemirror_mode": {
    "name": "ipython",
    "version": 3
   },
   "file_extension": ".py",
   "mimetype": "text/x-python",
   "name": "python",
   "nbconvert_exporter": "python",
   "pygments_lexer": "ipython3",
   "version": "3.6.8"
  },
  "nteract": {
   "version": "0.12.3"
  }
 },
 "nbformat": 4,
 "nbformat_minor": 2
}
